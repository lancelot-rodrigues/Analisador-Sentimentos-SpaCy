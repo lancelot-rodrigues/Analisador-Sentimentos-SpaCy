{
  "nbformat": 4,
  "nbformat_minor": 0,
  "metadata": {
    "colab": {
      "provenance": []
    },
    "kernelspec": {
      "name": "python3",
      "display_name": "Python 3"
    },
    "language_info": {
      "name": "python"
    }
  },
  "cells": [
    {
      "cell_type": "markdown",
      "source": [
        "###Instalando SPACY, baixando e carregando o modelo em português"
      ],
      "metadata": {
        "id": "EmpAxOMXS45e"
      }
    },
    {
      "cell_type": "code",
      "source": [
        "!pip install -U spacy\n",
        "!python -m spacy download pt_core_news_sm\n",
        "\n",
        "\n",
        "import spacy\n",
        "from spacy.matcher import Matcher\n",
        "from spacy.tokens import Doc\n",
        "\n",
        "nlp = spacy.load(\"pt_core_news_sm\")"
      ],
      "metadata": {
        "colab": {
          "base_uri": "https://localhost:8080/"
        },
        "id": "dRE2lMTINLnM",
        "outputId": "05f9b2c3-8bf3-4cfc-e664-a9f1731c787d"
      },
      "execution_count": 2,
      "outputs": [
        {
          "output_type": "stream",
          "name": "stdout",
          "text": [
            "Requirement already satisfied: spacy in /usr/local/lib/python3.11/dist-packages (3.8.5)\n",
            "Requirement already satisfied: spacy-legacy<3.1.0,>=3.0.11 in /usr/local/lib/python3.11/dist-packages (from spacy) (3.0.12)\n",
            "Requirement already satisfied: spacy-loggers<2.0.0,>=1.0.0 in /usr/local/lib/python3.11/dist-packages (from spacy) (1.0.5)\n",
            "Requirement already satisfied: murmurhash<1.1.0,>=0.28.0 in /usr/local/lib/python3.11/dist-packages (from spacy) (1.0.12)\n",
            "Requirement already satisfied: cymem<2.1.0,>=2.0.2 in /usr/local/lib/python3.11/dist-packages (from spacy) (2.0.11)\n",
            "Requirement already satisfied: preshed<3.1.0,>=3.0.2 in /usr/local/lib/python3.11/dist-packages (from spacy) (3.0.9)\n",
            "Requirement already satisfied: thinc<8.4.0,>=8.3.4 in /usr/local/lib/python3.11/dist-packages (from spacy) (8.3.6)\n",
            "Requirement already satisfied: wasabi<1.2.0,>=0.9.1 in /usr/local/lib/python3.11/dist-packages (from spacy) (1.1.3)\n",
            "Requirement already satisfied: srsly<3.0.0,>=2.4.3 in /usr/local/lib/python3.11/dist-packages (from spacy) (2.5.1)\n",
            "Requirement already satisfied: catalogue<2.1.0,>=2.0.6 in /usr/local/lib/python3.11/dist-packages (from spacy) (2.0.10)\n",
            "Requirement already satisfied: weasel<0.5.0,>=0.1.0 in /usr/local/lib/python3.11/dist-packages (from spacy) (0.4.1)\n",
            "Requirement already satisfied: typer<1.0.0,>=0.3.0 in /usr/local/lib/python3.11/dist-packages (from spacy) (0.15.3)\n",
            "Requirement already satisfied: tqdm<5.0.0,>=4.38.0 in /usr/local/lib/python3.11/dist-packages (from spacy) (4.67.1)\n",
            "Requirement already satisfied: numpy>=1.19.0 in /usr/local/lib/python3.11/dist-packages (from spacy) (2.0.2)\n",
            "Requirement already satisfied: requests<3.0.0,>=2.13.0 in /usr/local/lib/python3.11/dist-packages (from spacy) (2.32.3)\n",
            "Requirement already satisfied: pydantic!=1.8,!=1.8.1,<3.0.0,>=1.7.4 in /usr/local/lib/python3.11/dist-packages (from spacy) (2.11.3)\n",
            "Requirement already satisfied: jinja2 in /usr/local/lib/python3.11/dist-packages (from spacy) (3.1.6)\n",
            "Requirement already satisfied: setuptools in /usr/local/lib/python3.11/dist-packages (from spacy) (75.2.0)\n",
            "Requirement already satisfied: packaging>=20.0 in /usr/local/lib/python3.11/dist-packages (from spacy) (24.2)\n",
            "Requirement already satisfied: langcodes<4.0.0,>=3.2.0 in /usr/local/lib/python3.11/dist-packages (from spacy) (3.5.0)\n",
            "Requirement already satisfied: language-data>=1.2 in /usr/local/lib/python3.11/dist-packages (from langcodes<4.0.0,>=3.2.0->spacy) (1.3.0)\n",
            "Requirement already satisfied: annotated-types>=0.6.0 in /usr/local/lib/python3.11/dist-packages (from pydantic!=1.8,!=1.8.1,<3.0.0,>=1.7.4->spacy) (0.7.0)\n",
            "Requirement already satisfied: pydantic-core==2.33.1 in /usr/local/lib/python3.11/dist-packages (from pydantic!=1.8,!=1.8.1,<3.0.0,>=1.7.4->spacy) (2.33.1)\n",
            "Requirement already satisfied: typing-extensions>=4.12.2 in /usr/local/lib/python3.11/dist-packages (from pydantic!=1.8,!=1.8.1,<3.0.0,>=1.7.4->spacy) (4.13.2)\n",
            "Requirement already satisfied: typing-inspection>=0.4.0 in /usr/local/lib/python3.11/dist-packages (from pydantic!=1.8,!=1.8.1,<3.0.0,>=1.7.4->spacy) (0.4.0)\n",
            "Requirement already satisfied: charset-normalizer<4,>=2 in /usr/local/lib/python3.11/dist-packages (from requests<3.0.0,>=2.13.0->spacy) (3.4.1)\n",
            "Requirement already satisfied: idna<4,>=2.5 in /usr/local/lib/python3.11/dist-packages (from requests<3.0.0,>=2.13.0->spacy) (3.10)\n",
            "Requirement already satisfied: urllib3<3,>=1.21.1 in /usr/local/lib/python3.11/dist-packages (from requests<3.0.0,>=2.13.0->spacy) (2.4.0)\n",
            "Requirement already satisfied: certifi>=2017.4.17 in /usr/local/lib/python3.11/dist-packages (from requests<3.0.0,>=2.13.0->spacy) (2025.4.26)\n",
            "Requirement already satisfied: blis<1.4.0,>=1.3.0 in /usr/local/lib/python3.11/dist-packages (from thinc<8.4.0,>=8.3.4->spacy) (1.3.0)\n",
            "Requirement already satisfied: confection<1.0.0,>=0.0.1 in /usr/local/lib/python3.11/dist-packages (from thinc<8.4.0,>=8.3.4->spacy) (0.1.5)\n",
            "Requirement already satisfied: click>=8.0.0 in /usr/local/lib/python3.11/dist-packages (from typer<1.0.0,>=0.3.0->spacy) (8.1.8)\n",
            "Requirement already satisfied: shellingham>=1.3.0 in /usr/local/lib/python3.11/dist-packages (from typer<1.0.0,>=0.3.0->spacy) (1.5.4)\n",
            "Requirement already satisfied: rich>=10.11.0 in /usr/local/lib/python3.11/dist-packages (from typer<1.0.0,>=0.3.0->spacy) (13.9.4)\n",
            "Requirement already satisfied: cloudpathlib<1.0.0,>=0.7.0 in /usr/local/lib/python3.11/dist-packages (from weasel<0.5.0,>=0.1.0->spacy) (0.21.0)\n",
            "Requirement already satisfied: smart-open<8.0.0,>=5.2.1 in /usr/local/lib/python3.11/dist-packages (from weasel<0.5.0,>=0.1.0->spacy) (7.1.0)\n",
            "Requirement already satisfied: MarkupSafe>=2.0 in /usr/local/lib/python3.11/dist-packages (from jinja2->spacy) (3.0.2)\n",
            "Requirement already satisfied: marisa-trie>=1.1.0 in /usr/local/lib/python3.11/dist-packages (from language-data>=1.2->langcodes<4.0.0,>=3.2.0->spacy) (1.2.1)\n",
            "Requirement already satisfied: markdown-it-py>=2.2.0 in /usr/local/lib/python3.11/dist-packages (from rich>=10.11.0->typer<1.0.0,>=0.3.0->spacy) (3.0.0)\n",
            "Requirement already satisfied: pygments<3.0.0,>=2.13.0 in /usr/local/lib/python3.11/dist-packages (from rich>=10.11.0->typer<1.0.0,>=0.3.0->spacy) (2.19.1)\n",
            "Requirement already satisfied: wrapt in /usr/local/lib/python3.11/dist-packages (from smart-open<8.0.0,>=5.2.1->weasel<0.5.0,>=0.1.0->spacy) (1.17.2)\n",
            "Requirement already satisfied: mdurl~=0.1 in /usr/local/lib/python3.11/dist-packages (from markdown-it-py>=2.2.0->rich>=10.11.0->typer<1.0.0,>=0.3.0->spacy) (0.1.2)\n",
            "Collecting pt-core-news-sm==3.8.0\n",
            "  Using cached https://github.com/explosion/spacy-models/releases/download/pt_core_news_sm-3.8.0/pt_core_news_sm-3.8.0-py3-none-any.whl (13.0 MB)\n",
            "\u001b[38;5;2m✔ Download and installation successful\u001b[0m\n",
            "You can now load the package via spacy.load('pt_core_news_sm')\n",
            "\u001b[38;5;3m⚠ Restart to reload dependencies\u001b[0m\n",
            "If you are in a Jupyter or Colab notebook, you may need to restart Python in\n",
            "order to load all the package's dependencies. You can do this by selecting the\n",
            "'Restart kernel' or 'Restart runtime' option.\n"
          ]
        }
      ]
    },
    {
      "cell_type": "markdown",
      "source": [
        "#### Criando regras com Matcher para detectar palavras positivas e negativas"
      ],
      "metadata": {
        "id": "9IH_Gl_ITItJ"
      }
    },
    {
      "cell_type": "code",
      "source": [
        "# Palavras positivas e negativas\n",
        "palavras_positivas = [\"bom\", \"ótimo\", \"feliz\", \"excelente\", \"positivo\", \"gostei\", \"maravilhoso\"]\n",
        "palavras_negativas = [\"ruim\", \"péssimo\", \"triste\", \"negativo\", \"detestei\", \"horrível\", \"decepcionante\"]\n",
        "\n",
        "matcher = Matcher(nlp.vocab)\n",
        "\n",
        "matcher.add(\"POSITIVO\", [[{\"LOWER\": palavra}] for palavra in palavras_positivas])\n",
        "matcher.add(\"NEGATIVO\", [[{\"LOWER\": palavra}] for palavra in palavras_negativas])\n"
      ],
      "metadata": {
        "id": "3eAF4uevN_DS"
      },
      "execution_count": 3,
      "outputs": []
    },
    {
      "cell_type": "markdown",
      "source": [
        "#### Adicionando uma extensão personalizada ao objeto Doc para armazenar o sentimento detectado"
      ],
      "metadata": {
        "id": "5HdK3RlpT0L1"
      }
    },
    {
      "cell_type": "code",
      "source": [
        "# Função getter para extensão personalizada\n",
        "def detectar_sentimento(doc):\n",
        "    matches = matcher(doc)\n",
        "    pos, neg = 0, 0\n",
        "    for match_id, start, end in matches:\n",
        "        label = nlp.vocab.strings[match_id]\n",
        "        if label == \"POSITIVO\":\n",
        "            pos += 1\n",
        "        elif label == \"NEGATIVO\":\n",
        "            neg += 1\n",
        "    if pos > neg:\n",
        "        return \"Positivo\"\n",
        "    elif neg > pos:\n",
        "        return \"Negativo\"\n",
        "    else:\n",
        "        return \"Neutro\"\n",
        "\n",
        "\n",
        "if not Doc.has_extension(\"sentimento\"):\n",
        "    Doc.set_extension(\"sentimento\", getter=detectar_sentimento)"
      ],
      "metadata": {
        "id": "7V_oENnKTwfE"
      },
      "execution_count": 4,
      "outputs": []
    },
    {
      "cell_type": "markdown",
      "source": [
        "####Função para analisar as frases"
      ],
      "metadata": {
        "id": "u45poVCXUJ96"
      }
    },
    {
      "cell_type": "code",
      "source": [
        "def analisar_sentimentos(frases):\n",
        "    for frase in frases:\n",
        "        doc = nlp(frase)\n",
        "        print(f\"Frase: {frase}\")\n",
        "        print(f\"Sentimento detectado: {doc._.sentimento}\")\n",
        "        print(\"-\" * 40)"
      ],
      "metadata": {
        "id": "pKN89w1OUPI7"
      },
      "execution_count": 5,
      "outputs": []
    },
    {
      "cell_type": "markdown",
      "source": [
        "####Testando com frases"
      ],
      "metadata": {
        "id": "taL96T4CUWO9"
      }
    },
    {
      "cell_type": "code",
      "source": [
        "frases = [\n",
        "    \"Eu gostei muito do filme, foi ótimo!\",\n",
        "    \"O serviço foi péssimo e eu fiquei muito decepcionado.\",\n",
        "    \"Foi um dia comum, nem bom nem ruim.\",\n",
        "    \"Estou muito feliz com o resultado!\",\n",
        "    \"Esse evento foi horrível, não gostei de nada.\"\n",
        "]\n",
        "\n",
        "analisar_sentimentos(frases)"
      ],
      "metadata": {
        "id": "-LTluuWuUZ3V",
        "colab": {
          "base_uri": "https://localhost:8080/"
        },
        "outputId": "e72ae2d9-cda4-4743-ce6e-cc1cdefd4911"
      },
      "execution_count": 6,
      "outputs": [
        {
          "output_type": "stream",
          "name": "stdout",
          "text": [
            "Frase: Eu gostei muito do filme, foi ótimo!\n",
            "Sentimento detectado: Positivo\n",
            "----------------------------------------\n",
            "Frase: O serviço foi péssimo e eu fiquei muito decepcionado.\n",
            "Sentimento detectado: Negativo\n",
            "----------------------------------------\n",
            "Frase: Foi um dia comum, nem bom nem ruim.\n",
            "Sentimento detectado: Neutro\n",
            "----------------------------------------\n",
            "Frase: Estou muito feliz com o resultado!\n",
            "Sentimento detectado: Positivo\n",
            "----------------------------------------\n",
            "Frase: Esse evento foi horrível, não gostei de nada.\n",
            "Sentimento detectado: Neutro\n",
            "----------------------------------------\n"
          ]
        }
      ]
    }
  ]
}